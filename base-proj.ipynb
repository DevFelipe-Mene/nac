{
 "cells": [
  {
   "cell_type": "markdown",
   "metadata": {},
   "source": [
    "# NAC3 - Aprendizado de maquina\n",
    "\n",
    "Nesta nac vamos desenvolver um modelo preditivo do valor do carro.\n",
    "\n",
    "\n",
    "Dica: Siga todas as instruções, completando e construindo os algoritmos necessários.\n",
    "\n",
    "Nas celulas **Seu Código aqui...** significa que é necessário realizar a implementação de algum código. Utilize quantos blocos julgar necessário para criar o código.\n",
    "\n",
    "Nas celulas **Responda** significa que é nessário uma resposta clara e objetiva (pode ser por texto, gráfico, imagem...) para a pergunta.\n",
    "\n",
    "\n",
    "## Informações do grupo\n",
    "\n",
    "Este projeto poderá ser feito por grupos de `até 2 alunos`.\n",
    "\n",
    "| Nome dos Integrantes     | RM             | Turma   |\n",
    "| :----------------------- | :------------- | :-----: |\n",
    "| Integrante 1             | RM             |         |\n",
    "| Integrante 2             | RM             |         |\n",
    "\n",
    "\n",
    "## Data de entrega final\n",
    "\n",
    "Será considerado para avaliação e correção o ultimo commit do `**dia 16/09/2021**`\n",
    "\n",
    "Responda o `Google forms` :   [LINK FORMULARIO](https://forms.gle/2iivfbMVToXwe9Wc6).\n",
    "\n",
    "\n",
    "## Rubrica \n",
    "\n",
    "Os critérios de avaliação do projeto será conforme a rubrica.\n",
    "\n",
    "\n",
    "- R1: Exploração de Dados (Até 1 ponto)\n",
    "- R2: Preparação de Dados (Até 2 ponto)\n",
    "- R3: Desenvolvimento do Modelo (Até 2 ponto)\n",
    "- R4: Treinamento e Teste do Modelo (Até 1 ponto)\n",
    "- R5: Validação e Otimização do Modelo (Até 2 ponto)\n",
    "- R6: Conclusões Finais (Até 2 ponto)\n",
    "\n",
    "Nota_final = R1 + R2 + R3 + R4 + R5 + R6"
   ]
  },
  {
   "cell_type": "markdown",
   "metadata": {},
   "source": [
    "## 1. Exploração de Dados"
   ]
  },
  {
   "cell_type": "markdown",
   "metadata": {},
   "source": [
    "Os dados que serão utilizados extraídos do Kaggle deste [dataset](https://www.kaggle.com/nisargpatel/automobiles/data).\n",
    "\n",
    "Carregue o dataset \"Automobile.csv\" e faça uma inspeção nas 15 primeiras linhas para identificação básica dos atributos."
   ]
  },
  {
   "cell_type": "code",
   "execution_count": 9,
   "metadata": {
    "tags": []
   },
   "outputs": [
    {
     "name": "stdout",
     "output_type": "stream",
     "text": [
      "Populating the interactive namespace from numpy and matplotlib\n"
     ]
    },
    {
     "data": {
      "text/html": [
       "<div>\n",
       "<style scoped>\n",
       "    .dataframe tbody tr th:only-of-type {\n",
       "        vertical-align: middle;\n",
       "    }\n",
       "\n",
       "    .dataframe tbody tr th {\n",
       "        vertical-align: top;\n",
       "    }\n",
       "\n",
       "    .dataframe thead th {\n",
       "        text-align: right;\n",
       "    }\n",
       "</style>\n",
       "<table border=\"1\" class=\"dataframe\">\n",
       "  <thead>\n",
       "    <tr style=\"text-align: right;\">\n",
       "      <th></th>\n",
       "      <th>0</th>\n",
       "      <th>1</th>\n",
       "      <th>2</th>\n",
       "      <th>3</th>\n",
       "      <th>4</th>\n",
       "      <th>5</th>\n",
       "      <th>6</th>\n",
       "      <th>7</th>\n",
       "      <th>8</th>\n",
       "      <th>9</th>\n",
       "      <th>10</th>\n",
       "      <th>11</th>\n",
       "      <th>12</th>\n",
       "      <th>13</th>\n",
       "      <th>14</th>\n",
       "    </tr>\n",
       "  </thead>\n",
       "  <tbody>\n",
       "    <tr>\n",
       "      <th>symboling</th>\n",
       "      <td>3</td>\n",
       "      <td>3</td>\n",
       "      <td>1</td>\n",
       "      <td>2</td>\n",
       "      <td>2</td>\n",
       "      <td>2</td>\n",
       "      <td>1</td>\n",
       "      <td>1</td>\n",
       "      <td>1</td>\n",
       "      <td>2</td>\n",
       "      <td>0</td>\n",
       "      <td>0</td>\n",
       "      <td>0</td>\n",
       "      <td>1</td>\n",
       "      <td>0</td>\n",
       "    </tr>\n",
       "    <tr>\n",
       "      <th>normalized_losses</th>\n",
       "      <td>168</td>\n",
       "      <td>168</td>\n",
       "      <td>168</td>\n",
       "      <td>164</td>\n",
       "      <td>164</td>\n",
       "      <td>161</td>\n",
       "      <td>158</td>\n",
       "      <td>168</td>\n",
       "      <td>158</td>\n",
       "      <td>192</td>\n",
       "      <td>192</td>\n",
       "      <td>188</td>\n",
       "      <td>188</td>\n",
       "      <td>149</td>\n",
       "      <td>149</td>\n",
       "    </tr>\n",
       "    <tr>\n",
       "      <th>make</th>\n",
       "      <td>alfa-romero</td>\n",
       "      <td>alfa-romero</td>\n",
       "      <td>alfa-romero</td>\n",
       "      <td>audi</td>\n",
       "      <td>audi</td>\n",
       "      <td>audi</td>\n",
       "      <td>audi</td>\n",
       "      <td>audi</td>\n",
       "      <td>audi</td>\n",
       "      <td>bmw</td>\n",
       "      <td>bmw</td>\n",
       "      <td>bmw</td>\n",
       "      <td>bmw</td>\n",
       "      <td>bmw</td>\n",
       "      <td>bmw</td>\n",
       "    </tr>\n",
       "    <tr>\n",
       "      <th>fuel_type</th>\n",
       "      <td>gas</td>\n",
       "      <td>gas</td>\n",
       "      <td>gas</td>\n",
       "      <td>gas</td>\n",
       "      <td>gas</td>\n",
       "      <td>gas</td>\n",
       "      <td>gas</td>\n",
       "      <td>gas</td>\n",
       "      <td>gas</td>\n",
       "      <td>gas</td>\n",
       "      <td>gas</td>\n",
       "      <td>gas</td>\n",
       "      <td>gas</td>\n",
       "      <td>gas</td>\n",
       "      <td>gas</td>\n",
       "    </tr>\n",
       "    <tr>\n",
       "      <th>aspiration</th>\n",
       "      <td>std</td>\n",
       "      <td>std</td>\n",
       "      <td>std</td>\n",
       "      <td>std</td>\n",
       "      <td>std</td>\n",
       "      <td>std</td>\n",
       "      <td>std</td>\n",
       "      <td>std</td>\n",
       "      <td>turbo</td>\n",
       "      <td>std</td>\n",
       "      <td>std</td>\n",
       "      <td>std</td>\n",
       "      <td>std</td>\n",
       "      <td>std</td>\n",
       "      <td>std</td>\n",
       "    </tr>\n",
       "    <tr>\n",
       "      <th>number_of_doors</th>\n",
       "      <td>two</td>\n",
       "      <td>two</td>\n",
       "      <td>two</td>\n",
       "      <td>four</td>\n",
       "      <td>four</td>\n",
       "      <td>two</td>\n",
       "      <td>four</td>\n",
       "      <td>four</td>\n",
       "      <td>four</td>\n",
       "      <td>two</td>\n",
       "      <td>four</td>\n",
       "      <td>two</td>\n",
       "      <td>four</td>\n",
       "      <td>four</td>\n",
       "      <td>four</td>\n",
       "    </tr>\n",
       "    <tr>\n",
       "      <th>body_style</th>\n",
       "      <td>convertible</td>\n",
       "      <td>convertible</td>\n",
       "      <td>hatchback</td>\n",
       "      <td>sedan</td>\n",
       "      <td>sedan</td>\n",
       "      <td>sedan</td>\n",
       "      <td>sedan</td>\n",
       "      <td>wagon</td>\n",
       "      <td>sedan</td>\n",
       "      <td>sedan</td>\n",
       "      <td>sedan</td>\n",
       "      <td>sedan</td>\n",
       "      <td>sedan</td>\n",
       "      <td>sedan</td>\n",
       "      <td>sedan</td>\n",
       "    </tr>\n",
       "    <tr>\n",
       "      <th>drive_wheels</th>\n",
       "      <td>rwd</td>\n",
       "      <td>rwd</td>\n",
       "      <td>rwd</td>\n",
       "      <td>fwd</td>\n",
       "      <td>4wd</td>\n",
       "      <td>fwd</td>\n",
       "      <td>fwd</td>\n",
       "      <td>fwd</td>\n",
       "      <td>fwd</td>\n",
       "      <td>rwd</td>\n",
       "      <td>rwd</td>\n",
       "      <td>rwd</td>\n",
       "      <td>rwd</td>\n",
       "      <td>rwd</td>\n",
       "      <td>rwd</td>\n",
       "    </tr>\n",
       "    <tr>\n",
       "      <th>engine_location</th>\n",
       "      <td>front</td>\n",
       "      <td>front</td>\n",
       "      <td>front</td>\n",
       "      <td>front</td>\n",
       "      <td>front</td>\n",
       "      <td>front</td>\n",
       "      <td>front</td>\n",
       "      <td>front</td>\n",
       "      <td>front</td>\n",
       "      <td>front</td>\n",
       "      <td>front</td>\n",
       "      <td>front</td>\n",
       "      <td>front</td>\n",
       "      <td>front</td>\n",
       "      <td>front</td>\n",
       "    </tr>\n",
       "    <tr>\n",
       "      <th>wheel_base</th>\n",
       "      <td>88.6</td>\n",
       "      <td>88.6</td>\n",
       "      <td>94.5</td>\n",
       "      <td>99.8</td>\n",
       "      <td>99.4</td>\n",
       "      <td>99.8</td>\n",
       "      <td>105.8</td>\n",
       "      <td>105.8</td>\n",
       "      <td>105.8</td>\n",
       "      <td>101.2</td>\n",
       "      <td>101.2</td>\n",
       "      <td>101.2</td>\n",
       "      <td>101.2</td>\n",
       "      <td>103.5</td>\n",
       "      <td>103.5</td>\n",
       "    </tr>\n",
       "    <tr>\n",
       "      <th>length</th>\n",
       "      <td>168.8</td>\n",
       "      <td>168.8</td>\n",
       "      <td>171.2</td>\n",
       "      <td>176.6</td>\n",
       "      <td>176.6</td>\n",
       "      <td>177.3</td>\n",
       "      <td>192.7</td>\n",
       "      <td>192.7</td>\n",
       "      <td>192.7</td>\n",
       "      <td>176.8</td>\n",
       "      <td>176.8</td>\n",
       "      <td>176.8</td>\n",
       "      <td>176.8</td>\n",
       "      <td>189.0</td>\n",
       "      <td>189.0</td>\n",
       "    </tr>\n",
       "    <tr>\n",
       "      <th>width</th>\n",
       "      <td>64.1</td>\n",
       "      <td>64.1</td>\n",
       "      <td>65.5</td>\n",
       "      <td>66.2</td>\n",
       "      <td>66.4</td>\n",
       "      <td>66.3</td>\n",
       "      <td>71.4</td>\n",
       "      <td>71.4</td>\n",
       "      <td>71.4</td>\n",
       "      <td>64.8</td>\n",
       "      <td>64.8</td>\n",
       "      <td>64.8</td>\n",
       "      <td>64.8</td>\n",
       "      <td>66.9</td>\n",
       "      <td>66.9</td>\n",
       "    </tr>\n",
       "    <tr>\n",
       "      <th>height</th>\n",
       "      <td>48.8</td>\n",
       "      <td>48.8</td>\n",
       "      <td>52.4</td>\n",
       "      <td>54.3</td>\n",
       "      <td>54.3</td>\n",
       "      <td>53.1</td>\n",
       "      <td>55.7</td>\n",
       "      <td>55.7</td>\n",
       "      <td>55.9</td>\n",
       "      <td>54.3</td>\n",
       "      <td>54.3</td>\n",
       "      <td>54.3</td>\n",
       "      <td>54.3</td>\n",
       "      <td>55.7</td>\n",
       "      <td>55.7</td>\n",
       "    </tr>\n",
       "    <tr>\n",
       "      <th>curb_weight</th>\n",
       "      <td>2548</td>\n",
       "      <td>2548</td>\n",
       "      <td>2823</td>\n",
       "      <td>2337</td>\n",
       "      <td>2824</td>\n",
       "      <td>2507</td>\n",
       "      <td>2844</td>\n",
       "      <td>2954</td>\n",
       "      <td>3086</td>\n",
       "      <td>2395</td>\n",
       "      <td>2395</td>\n",
       "      <td>2710</td>\n",
       "      <td>2765</td>\n",
       "      <td>3055</td>\n",
       "      <td>3230</td>\n",
       "    </tr>\n",
       "    <tr>\n",
       "      <th>engine_type</th>\n",
       "      <td>dohc</td>\n",
       "      <td>dohc</td>\n",
       "      <td>ohcv</td>\n",
       "      <td>ohc</td>\n",
       "      <td>ohc</td>\n",
       "      <td>ohc</td>\n",
       "      <td>ohc</td>\n",
       "      <td>ohc</td>\n",
       "      <td>ohc</td>\n",
       "      <td>ohc</td>\n",
       "      <td>ohc</td>\n",
       "      <td>ohc</td>\n",
       "      <td>ohc</td>\n",
       "      <td>ohc</td>\n",
       "      <td>ohc</td>\n",
       "    </tr>\n",
       "    <tr>\n",
       "      <th>number_of_cylinders</th>\n",
       "      <td>four</td>\n",
       "      <td>four</td>\n",
       "      <td>six</td>\n",
       "      <td>four</td>\n",
       "      <td>five</td>\n",
       "      <td>five</td>\n",
       "      <td>five</td>\n",
       "      <td>five</td>\n",
       "      <td>five</td>\n",
       "      <td>four</td>\n",
       "      <td>four</td>\n",
       "      <td>six</td>\n",
       "      <td>six</td>\n",
       "      <td>six</td>\n",
       "      <td>six</td>\n",
       "    </tr>\n",
       "    <tr>\n",
       "      <th>engine_size</th>\n",
       "      <td>130</td>\n",
       "      <td>130</td>\n",
       "      <td>152</td>\n",
       "      <td>109</td>\n",
       "      <td>136</td>\n",
       "      <td>136</td>\n",
       "      <td>136</td>\n",
       "      <td>136</td>\n",
       "      <td>131</td>\n",
       "      <td>108</td>\n",
       "      <td>108</td>\n",
       "      <td>164</td>\n",
       "      <td>164</td>\n",
       "      <td>164</td>\n",
       "      <td>209</td>\n",
       "    </tr>\n",
       "    <tr>\n",
       "      <th>fuel_system</th>\n",
       "      <td>mpfi</td>\n",
       "      <td>mpfi</td>\n",
       "      <td>mpfi</td>\n",
       "      <td>mpfi</td>\n",
       "      <td>mpfi</td>\n",
       "      <td>mpfi</td>\n",
       "      <td>mpfi</td>\n",
       "      <td>mpfi</td>\n",
       "      <td>mpfi</td>\n",
       "      <td>mpfi</td>\n",
       "      <td>mpfi</td>\n",
       "      <td>mpfi</td>\n",
       "      <td>mpfi</td>\n",
       "      <td>mpfi</td>\n",
       "      <td>mpfi</td>\n",
       "    </tr>\n",
       "    <tr>\n",
       "      <th>bore</th>\n",
       "      <td>3.47</td>\n",
       "      <td>3.47</td>\n",
       "      <td>2.68</td>\n",
       "      <td>3.19</td>\n",
       "      <td>3.19</td>\n",
       "      <td>3.19</td>\n",
       "      <td>3.19</td>\n",
       "      <td>3.19</td>\n",
       "      <td>3.13</td>\n",
       "      <td>3.5</td>\n",
       "      <td>3.5</td>\n",
       "      <td>3.31</td>\n",
       "      <td>3.31</td>\n",
       "      <td>3.31</td>\n",
       "      <td>3.62</td>\n",
       "    </tr>\n",
       "    <tr>\n",
       "      <th>stroke</th>\n",
       "      <td>2.68</td>\n",
       "      <td>2.68</td>\n",
       "      <td>3.47</td>\n",
       "      <td>3.4</td>\n",
       "      <td>3.4</td>\n",
       "      <td>3.4</td>\n",
       "      <td>3.4</td>\n",
       "      <td>3.4</td>\n",
       "      <td>3.4</td>\n",
       "      <td>2.8</td>\n",
       "      <td>2.8</td>\n",
       "      <td>3.19</td>\n",
       "      <td>3.19</td>\n",
       "      <td>3.19</td>\n",
       "      <td>3.39</td>\n",
       "    </tr>\n",
       "    <tr>\n",
       "      <th>compression_ratio</th>\n",
       "      <td>9.0</td>\n",
       "      <td>9.0</td>\n",
       "      <td>9.0</td>\n",
       "      <td>10.0</td>\n",
       "      <td>8.0</td>\n",
       "      <td>8.5</td>\n",
       "      <td>8.5</td>\n",
       "      <td>8.5</td>\n",
       "      <td>8.3</td>\n",
       "      <td>8.8</td>\n",
       "      <td>8.8</td>\n",
       "      <td>9.0</td>\n",
       "      <td>9.0</td>\n",
       "      <td>9.0</td>\n",
       "      <td>8.0</td>\n",
       "    </tr>\n",
       "    <tr>\n",
       "      <th>horsepower</th>\n",
       "      <td>111</td>\n",
       "      <td>111</td>\n",
       "      <td>154</td>\n",
       "      <td>102</td>\n",
       "      <td>115</td>\n",
       "      <td>110</td>\n",
       "      <td>110</td>\n",
       "      <td>110</td>\n",
       "      <td>140</td>\n",
       "      <td>101</td>\n",
       "      <td>101</td>\n",
       "      <td>121</td>\n",
       "      <td>121</td>\n",
       "      <td>121</td>\n",
       "      <td>182</td>\n",
       "    </tr>\n",
       "    <tr>\n",
       "      <th>peak_rpm</th>\n",
       "      <td>5000</td>\n",
       "      <td>5000</td>\n",
       "      <td>5000</td>\n",
       "      <td>5500</td>\n",
       "      <td>5500</td>\n",
       "      <td>5500</td>\n",
       "      <td>5500</td>\n",
       "      <td>5500</td>\n",
       "      <td>5500</td>\n",
       "      <td>5800</td>\n",
       "      <td>5800</td>\n",
       "      <td>4250</td>\n",
       "      <td>4250</td>\n",
       "      <td>4250</td>\n",
       "      <td>5400</td>\n",
       "    </tr>\n",
       "    <tr>\n",
       "      <th>city_mpg</th>\n",
       "      <td>21</td>\n",
       "      <td>21</td>\n",
       "      <td>19</td>\n",
       "      <td>24</td>\n",
       "      <td>18</td>\n",
       "      <td>19</td>\n",
       "      <td>19</td>\n",
       "      <td>19</td>\n",
       "      <td>17</td>\n",
       "      <td>23</td>\n",
       "      <td>23</td>\n",
       "      <td>21</td>\n",
       "      <td>21</td>\n",
       "      <td>20</td>\n",
       "      <td>16</td>\n",
       "    </tr>\n",
       "    <tr>\n",
       "      <th>highway_mpg</th>\n",
       "      <td>27</td>\n",
       "      <td>27</td>\n",
       "      <td>26</td>\n",
       "      <td>30</td>\n",
       "      <td>22</td>\n",
       "      <td>25</td>\n",
       "      <td>25</td>\n",
       "      <td>25</td>\n",
       "      <td>20</td>\n",
       "      <td>29</td>\n",
       "      <td>29</td>\n",
       "      <td>28</td>\n",
       "      <td>28</td>\n",
       "      <td>25</td>\n",
       "      <td>22</td>\n",
       "    </tr>\n",
       "    <tr>\n",
       "      <th>price</th>\n",
       "      <td>13495</td>\n",
       "      <td>16500</td>\n",
       "      <td>16500</td>\n",
       "      <td>13950</td>\n",
       "      <td>17450</td>\n",
       "      <td>15250</td>\n",
       "      <td>17710</td>\n",
       "      <td>18920</td>\n",
       "      <td>23875</td>\n",
       "      <td>16430</td>\n",
       "      <td>16925</td>\n",
       "      <td>20970</td>\n",
       "      <td>21105</td>\n",
       "      <td>24565</td>\n",
       "      <td>30760</td>\n",
       "    </tr>\n",
       "  </tbody>\n",
       "</table>\n",
       "</div>"
      ],
      "text/plain": [
       "                              0            1            2      3      4   \\\n",
       "symboling                      3            3            1      2      2   \n",
       "normalized_losses            168          168          168    164    164   \n",
       "make                 alfa-romero  alfa-romero  alfa-romero   audi   audi   \n",
       "fuel_type                    gas          gas          gas    gas    gas   \n",
       "aspiration                   std          std          std    std    std   \n",
       "number_of_doors              two          two          two   four   four   \n",
       "body_style           convertible  convertible    hatchback  sedan  sedan   \n",
       "drive_wheels                 rwd          rwd          rwd    fwd    4wd   \n",
       "engine_location            front        front        front  front  front   \n",
       "wheel_base                  88.6         88.6         94.5   99.8   99.4   \n",
       "length                     168.8        168.8        171.2  176.6  176.6   \n",
       "width                       64.1         64.1         65.5   66.2   66.4   \n",
       "height                      48.8         48.8         52.4   54.3   54.3   \n",
       "curb_weight                 2548         2548         2823   2337   2824   \n",
       "engine_type                 dohc         dohc         ohcv    ohc    ohc   \n",
       "number_of_cylinders         four         four          six   four   five   \n",
       "engine_size                  130          130          152    109    136   \n",
       "fuel_system                 mpfi         mpfi         mpfi   mpfi   mpfi   \n",
       "bore                        3.47         3.47         2.68   3.19   3.19   \n",
       "stroke                      2.68         2.68         3.47    3.4    3.4   \n",
       "compression_ratio            9.0          9.0          9.0   10.0    8.0   \n",
       "horsepower                   111          111          154    102    115   \n",
       "peak_rpm                    5000         5000         5000   5500   5500   \n",
       "city_mpg                      21           21           19     24     18   \n",
       "highway_mpg                   27           27           26     30     22   \n",
       "price                      13495        16500        16500  13950  17450   \n",
       "\n",
       "                        5      6      7      8      9      10     11     12  \\\n",
       "symboling                2      1      1      1      2      0      0      0   \n",
       "normalized_losses      161    158    168    158    192    192    188    188   \n",
       "make                  audi   audi   audi   audi    bmw    bmw    bmw    bmw   \n",
       "fuel_type              gas    gas    gas    gas    gas    gas    gas    gas   \n",
       "aspiration             std    std    std  turbo    std    std    std    std   \n",
       "number_of_doors        two   four   four   four    two   four    two   four   \n",
       "body_style           sedan  sedan  wagon  sedan  sedan  sedan  sedan  sedan   \n",
       "drive_wheels           fwd    fwd    fwd    fwd    rwd    rwd    rwd    rwd   \n",
       "engine_location      front  front  front  front  front  front  front  front   \n",
       "wheel_base            99.8  105.8  105.8  105.8  101.2  101.2  101.2  101.2   \n",
       "length               177.3  192.7  192.7  192.7  176.8  176.8  176.8  176.8   \n",
       "width                 66.3   71.4   71.4   71.4   64.8   64.8   64.8   64.8   \n",
       "height                53.1   55.7   55.7   55.9   54.3   54.3   54.3   54.3   \n",
       "curb_weight           2507   2844   2954   3086   2395   2395   2710   2765   \n",
       "engine_type            ohc    ohc    ohc    ohc    ohc    ohc    ohc    ohc   \n",
       "number_of_cylinders   five   five   five   five   four   four    six    six   \n",
       "engine_size            136    136    136    131    108    108    164    164   \n",
       "fuel_system           mpfi   mpfi   mpfi   mpfi   mpfi   mpfi   mpfi   mpfi   \n",
       "bore                  3.19   3.19   3.19   3.13    3.5    3.5   3.31   3.31   \n",
       "stroke                 3.4    3.4    3.4    3.4    2.8    2.8   3.19   3.19   \n",
       "compression_ratio      8.5    8.5    8.5    8.3    8.8    8.8    9.0    9.0   \n",
       "horsepower             110    110    110    140    101    101    121    121   \n",
       "peak_rpm              5500   5500   5500   5500   5800   5800   4250   4250   \n",
       "city_mpg                19     19     19     17     23     23     21     21   \n",
       "highway_mpg             25     25     25     20     29     29     28     28   \n",
       "price                15250  17710  18920  23875  16430  16925  20970  21105   \n",
       "\n",
       "                        13     14  \n",
       "symboling                1      0  \n",
       "normalized_losses      149    149  \n",
       "make                   bmw    bmw  \n",
       "fuel_type              gas    gas  \n",
       "aspiration             std    std  \n",
       "number_of_doors       four   four  \n",
       "body_style           sedan  sedan  \n",
       "drive_wheels           rwd    rwd  \n",
       "engine_location      front  front  \n",
       "wheel_base           103.5  103.5  \n",
       "length               189.0  189.0  \n",
       "width                 66.9   66.9  \n",
       "height                55.7   55.7  \n",
       "curb_weight           3055   3230  \n",
       "engine_type            ohc    ohc  \n",
       "number_of_cylinders    six    six  \n",
       "engine_size            164    209  \n",
       "fuel_system           mpfi   mpfi  \n",
       "bore                  3.31   3.62  \n",
       "stroke                3.19   3.39  \n",
       "compression_ratio      9.0    8.0  \n",
       "horsepower             121    182  \n",
       "peak_rpm              4250   5400  \n",
       "city_mpg                20     16  \n",
       "highway_mpg             25     22  \n",
       "price                24565  30760  "
      ]
     },
     "execution_count": 9,
     "metadata": {},
     "output_type": "execute_result"
    }
   ],
   "source": [
    "import seaborn as sns\n",
    "import matplotlib.pyplot as plt\n",
    "import pandas as pd\n",
    "import numpy as np\n",
    "\n",
    "plt.style.use('ggplot')\n",
    "%matplotlib inline\n",
    "%pylab inline\n",
    "\n",
    "df= pd.read_csv('Automobile.csv')\n",
    "df.head(15).T\n",
    "\n"
   ]
  },
  {
   "cell_type": "markdown",
   "metadata": {},
   "source": [
    "**Pergunta:** Apresente uma relação das coluna e seu significado:\n",
    "\n",
    "Exemplo: \n",
    "\n",
    "- make: fabricante\n",
    "- fuel_type: tipo de combustível\n",
    "- price: preço (**Variável Alvo, atributo que será predito pelo modelo de ML**)"
   ]
  },
  {
   "cell_type": "markdown",
   "metadata": {},
   "source": [
    "**Responda**\n",
    "\n",
    "symboling:\n",
    "normalized_losses:\n",
    "make:\n",
    "fuel_type:\n",
    "aspiration:\n",
    "number_of_doors:\n",
    "body_style:\n",
    "drive_wheels:\n",
    "engine_location:\n",
    "wheel_base:\n",
    "length:\n",
    "widght:\n",
    "height:\n",
    "curb_weight:\n",
    "engine_type:\n",
    "number_of_cylinders:\n",
    "engine_size:\n",
    "fuel_system:\n",
    "bore:\n",
    "stroke:\n",
    "compression_ratio:\n",
    "horsepower:\n",
    "peak_rpm:\n",
    "city_mpg:\n",
    "highway_mpg:\n",
    "price:\n"
   ]
  },
  {
   "cell_type": "markdown",
   "metadata": {},
   "source": [
    "### Análise profunda dos dados\n",
    "\n",
    "Faça uma análise exploratória dos dados. Utilize-se de gráficos e tabelas auxiliares, faça correlações entre os atributos e levante algumas suposições. "
   ]
  },
  {
   "cell_type": "code",
   "execution_count": 39,
   "metadata": {
    "tags": []
   },
   "outputs": [
    {
     "data": {
      "text/html": [
       "<div>\n",
       "<style scoped>\n",
       "    .dataframe tbody tr th:only-of-type {\n",
       "        vertical-align: middle;\n",
       "    }\n",
       "\n",
       "    .dataframe tbody tr th {\n",
       "        vertical-align: top;\n",
       "    }\n",
       "\n",
       "    .dataframe thead th {\n",
       "        text-align: right;\n",
       "    }\n",
       "</style>\n",
       "<table border=\"1\" class=\"dataframe\">\n",
       "  <thead>\n",
       "    <tr style=\"text-align: right;\">\n",
       "      <th></th>\n",
       "      <th>make</th>\n",
       "      <th>price</th>\n",
       "      <th>body_style</th>\n",
       "    </tr>\n",
       "  </thead>\n",
       "  <tbody>\n",
       "    <tr>\n",
       "      <th>1</th>\n",
       "      <td>alfa-romero</td>\n",
       "      <td>16500</td>\n",
       "      <td>convertible</td>\n",
       "    </tr>\n",
       "    <tr>\n",
       "      <th>2</th>\n",
       "      <td>alfa-romero</td>\n",
       "      <td>16500</td>\n",
       "      <td>hatchback</td>\n",
       "    </tr>\n",
       "    <tr>\n",
       "      <th>3</th>\n",
       "      <td>audi</td>\n",
       "      <td>13950</td>\n",
       "      <td>sedan</td>\n",
       "    </tr>\n",
       "  </tbody>\n",
       "</table>\n",
       "</div>"
      ],
      "text/plain": [
       "          make  price   body_style\n",
       "1  alfa-romero  16500  convertible\n",
       "2  alfa-romero  16500    hatchback\n",
       "3         audi  13950        sedan"
      ]
     },
     "execution_count": 39,
     "metadata": {},
     "output_type": "execute_result"
    }
   ],
   "source": [
    "df.loc[[1,2,3], ['make', 'price', 'body_style']]"
   ]
  },
  {
   "cell_type": "code",
   "execution_count": 42,
   "metadata": {
    "tags": []
   },
   "outputs": [
    {
     "data": {
      "text/plain": [
       "make         price\n",
       "alfa-romero  16500    2\n",
       "             13495    1\n",
       "audi         13950    1\n",
       "             15250    1\n",
       "             17450    1\n",
       "                     ..\n",
       "volvo        18950    1\n",
       "             19045    1\n",
       "             21485    1\n",
       "             22470    1\n",
       "             22625    1\n",
       "Name: price, Length: 196, dtype: int64"
      ]
     },
     "execution_count": 42,
     "metadata": {},
     "output_type": "execute_result"
    }
   ],
   "source": [
    "df.groupby('make')[u'price'].value_counts()"
   ]
  },
  {
   "cell_type": "code",
   "execution_count": 41,
   "metadata": {
    "tags": []
   },
   "outputs": [
    {
     "data": {
      "text/plain": [
       "<AxesSubplot:ylabel='make'>"
      ]
     },
     "execution_count": 41,
     "metadata": {},
     "output_type": "execute_result"
    },
    {
     "data": {
      "image/png": "[encoded data removed]",
      "text/plain": [
       "<Figure size 432x288 with 1 Axes>"
      ]
     },
     "metadata": {},
     "output_type": "display_data"
    }
   ],
   "source": [
    "sns.set(style=\"darkgrid\")\n",
    "make = df[u'make'].unique()\n",
    "cont = df[u'make'].value_counts()\n",
    "sns.barplot(x=make,y=cont)"
   ]
  },
  {
   "cell_type": "markdown",
   "metadata": {},
   "source": [
    " **Pergunta:** Cite um exemplo de pelo menos os 3 cenários propostos que corroboram a leitura dos dados apresentados, justique sua resposta.\n",
    "\n",
    "**Resposta:**\n",
    "\n",
    "Cenario 1: Variação do dolar\n",
    "Cenario 2: Baixa nos custos de produção\n",
    "Cenario 3: Chegada de modelos novos"
   ]
  },
  {
   "cell_type": "markdown",
   "metadata": {},
   "source": [
    " 2. Preparação dos Dados\n",
    "\n",
    " Análise de valores inválidos\n",
    "\n",
    "Faça a análise de dados ausente, dados nulos e dados iguais a 0(zero). **Lembre-se:** Trate esses dados dentro do contexto de análise e justifique suas escolhas.\n",
    " "
   ]
  },
  {
   "cell_type": "markdown",
   "metadata": {},
   "source": [
    "**Resposta:**"
   ]
  },
  {
   "cell_type": "code",
   "execution_count": 53,
   "metadata": {},
   "outputs": [
    {
     "data": {
      "text/plain": [
       "symboling              0\n",
       "normalized_losses      0\n",
       "make                   0\n",
       "fuel_type              0\n",
       "aspiration             0\n",
       "number_of_doors        0\n",
       "body_style             0\n",
       "drive_wheels           0\n",
       "engine_location        0\n",
       "wheel_base             0\n",
       "length                 0\n",
       "width                  0\n",
       "height                 0\n",
       "curb_weight            0\n",
       "engine_type            0\n",
       "number_of_cylinders    0\n",
       "engine_size            0\n",
       "fuel_system            0\n",
       "bore                   0\n",
       "stroke                 0\n",
       "compression_ratio      0\n",
       "horsepower             0\n",
       "peak_rpm               0\n",
       "city_mpg               0\n",
       "highway_mpg            0\n",
       "price                  0\n",
       "dtype: int64"
      ]
     },
     "execution_count": 53,
     "metadata": {},
     "output_type": "execute_result"
    }
   ],
   "source": [
    "df.isnull().sum()"
   ]
  },
  {
   "cell_type": "markdown",
   "metadata": {},
   "source": [
    "__(BONUS: 1 ponto extra.)__ Análise de Outliers\n",
    "\n",
    "Realize a análise e o tratamento de **outliers**, como referência para estudo:\n",
    "\n",
    "* [link1](https://machinelearningmastery.com/model-based-outlier-detection-and-removal-in-python/)\n",
    "* [link2](https://towardsdatascience.com/4-machine-learning-techniques-for-outlier-detection-in-python-21e9cfacb81d)\n",
    "* [link3](https://minerandodados.com.br/tratando-outliers-python/)"
   ]
  },
  {
   "cell_type": "code",
   "execution_count": 51,
   "metadata": {},
   "outputs": [
    {
     "data": {
      "image/png": "[encoded data removed]",
      "text/plain": [
       "<Figure size 432x288 with 1 Axes>"
      ]
     },
     "metadata": {},
     "output_type": "display_data"
    }
   ],
   "source": [
    "import numpy as np\n",
    "import seaborn as sns\n",
    "import matplotlib.pyplot as plt\n",
    "from sklearn.datasets import make_blobs\n",
    "from sklearn.neighbors import LocalOutlierFactor\n",
    "sns.set_style(\"darkgrid\")\n",
    "\n",
    "data= pd.read_csv('Automobile.csv')\n",
    "\n",
    "X, _ = make_blobs(n_samples=300, n_features=2, centers=1, shuffle=True, random_state=1)\n",
    "\n",
    "lof = LocalOutlierFactor(n_neighbors=20, algorithm='auto', metric='minkowski', contamination=0.04, novelty=False, n_jobs=-1)\n",
    "\n",
    "# Returns 1 of inliers, -1 for outliers\n",
    "pred = lof.fit_predict(X)\n",
    "\n",
    "# Extract outliers\n",
    "outlier_index = np.where(pred==-1)\n",
    "outlier_values = X[outlier_index]\n",
    "\n",
    "# Plot the data\n",
    "sns.scatterplot(x=X[:,0], y=X[:,1])\n",
    "sns.scatterplot(x=outlier_values[:,0], \n",
    "                y=outlier_values[:,1], color='r')\n",
    "plt.title(\"LOF Outlier Detection\", fontsize=15, pad=15)\n",
    "plt.savefig(\"LOF Outlier Detection.png\", dpi=80)"
   ]
  },
  {
   "cell_type": "markdown",
   "metadata": {},
   "source": [
    "**Pergunta:** Foram localizados outliers? Qual o método de análise adotado? Se existe, como os dados foram tratados (removidos ou mantidos)? "
   ]
  },
  {
   "cell_type": "markdown",
   "metadata": {},
   "source": [
    "**Resposta:**\n",
    "\n",
    "Sim. Local Outliner Factor. Foram mantidos."
   ]
  },
  {
   "cell_type": "markdown",
   "metadata": {},
   "source": [
    "### Tratamento de dados Paramétricos\n",
    "\n",
    "Faça o tratamento dos atributos não numéricos. Descubra quais são os atributos não numéricos, faça a análise dos valores desses atributos e manipule de forma conveniente para ser interpretado como um dado numérico. "
   ]
  },
  {
   "cell_type": "code",
   "execution_count": null,
   "metadata": {
    "tags": []
   },
   "outputs": [],
   "source": [
    "\n",
    "\n"
   ]
  },
  {
   "cell_type": "markdown",
   "metadata": {},
   "source": [
    "**Pergunta:** Quais são os atributos não numéricos? Qual o método de análise adotado? Por que esse essa escolha? "
   ]
  },
  {
   "cell_type": "markdown",
   "metadata": {},
   "source": [
    "**Resposta:**"
   ]
  },
  {
   "cell_type": "markdown",
   "metadata": {},
   "source": [
    "## 3. Desenvolvimento do Modelo"
   ]
  },
  {
   "cell_type": "markdown",
   "metadata": {},
   "source": [
    "**Pergunta:** O conjunto de dados indica a aplicação de qual modelo de aprendizagem de maquina para a determinação do preço de carro? Por que ? "
   ]
  },
  {
   "cell_type": "markdown",
   "metadata": {},
   "source": [
    "**Resposta:**\n",
    "\n",
    "    [] Aprendizado por reforço\n",
    "    [] Aprendizado supervisionado\n",
    "    [x] Aprendizado não supervisionado"
   ]
  },
  {
   "cell_type": "markdown",
   "metadata": {},
   "source": [
    "**Pergunta:** Qual a técnica sugerida para este projeto?"
   ]
  },
  {
   "cell_type": "markdown",
   "metadata": {},
   "source": [
    "**Resposta:**\n",
    "\n",
    "    [ ] Regressão\n",
    "    [ ] Classificação\n",
    "    [x] Clusterização"
   ]
  },
  {
   "cell_type": "markdown",
   "metadata": {},
   "source": [
    "**Pergunta:** Escolha 3 modelos de algoritmos para testar a performance de cada um deles."
   ]
  },
  {
   "cell_type": "markdown",
   "metadata": {},
   "source": [
    "**Resposta:**\n",
    "\n",
    "1. algoritimo de Aprendizagem Supervisionada \n",
    "2. algoritimo de Aprendizado não supervisionado\n",
    "3. algoritimo de Aprendizado por reforço\n"
   ]
  },
  {
   "cell_type": "markdown",
   "metadata": {},
   "source": [
    "**Pergunta:** Explique como cada algoritmo funciona.\n"
   ]
  },
  {
   "cell_type": "markdown",
   "metadata": {},
   "source": [
    "**Resposta:**\n",
    "\n",
    "1.Aprendizagem Supervisionada:\n",
    "Este algoritmo consiste em variáveis alvo ou de saída (variáveis dependentes) que são previstas por um grupo de variáveis predecessoras (variáveis independentes). Usando este grupo de variáveis, é gerada uma função que mapeia entradas para saídas desejáveis. O processo de treinamento continua até o modelo atingir um determinado nível de precisão desejável nos dados de teste\n",
    "\n",
    "2.Aprendizado não supervisionado\n",
    "Neste algoritmo, não há variáveis alvo ou variáveis de saída para serem estimadas. São feitos agrupamentos de população em diferentes grupos, amplamente utilizados para segmentar os clientes para intervenções específicas.\n",
    "\n",
    "3.Aprendizado por reforço\n",
    "Este algorítmo é utilizado para que a máquina seja treinada para decisões específicas. A máquina é exposta a um ambiente onde ela se treina continuamente usando tentativa e erro. A máquina aprende a partir das experiências passadas e tenta capturar o melhor conhecimento possível para tomar decisões de negócios precisas.\n",
    "    "
   ]
  },
  {
   "cell_type": "markdown",
   "metadata": {},
   "source": [
    "Crie um subset dos dados apenas com os atributos que serão utilizados para o treinameno e teste do modelo."
   ]
  },
  {
   "cell_type": "code",
   "execution_count": 2,
   "metadata": {
    "tags": []
   },
   "outputs": [],
   "source": [
    "from sklearn.model_selection import train_test_split\n",
    "from sklearn.neighbors import KNeighborsClassifier\n",
    "from sklearn import metrics\n",
    "\n",
    "df= pd.read_csv('Automobile.csv')\n",
    "X = df.data\n",
    "y = df.target\n",
    "\n",
    "\n"
   ]
  },
  {
   "cell_type": "markdown",
   "metadata": {},
   "source": [
    "Divida o subset em conjunto de treinamento e teste."
   ]
  },
  {
   "cell_type": "code",
   "execution_count": 2,
   "metadata": {
    "collapsed": true,
    "jupyter": {
     "outputs_hidden": true
    }
   },
   "outputs": [],
   "source": [
    "X_train, X_test, y_train, y_test = train_test_split(X, y, test_size=0.2, random_state=7)\n",
    "\n"
   ]
  },
  {
   "cell_type": "markdown",
   "metadata": {},
   "source": [
    "## 4. Treinamento e teste do modelo\n",
    "\n",
    "Faça o treinamento e teste de dos 3 algoritmos escolhidos. Para cada um dos modelos utilize uma das métricas: R2-score, RMSE e MAE para avaliar a performance dos medelos. Utilize a média do obtido da validação cruzada para um kfold de 5."
   ]
  },
  {
   "cell_type": "code",
   "execution_count": null,
   "metadata": {},
   "outputs": [],
   "source": [
    "from sklearn.model_selection import KFold\n",
    "\n",
    "crossvalidation = KFold(n_splits=10,shuffle=True, random_state=7)\n",
    "\n",
    "knn = KNeighborsClassifier(n_neighbors=5)"
   ]
  },
  {
   "cell_type": "markdown",
   "metadata": {},
   "source": [
    "### Algoritmo 1"
   ]
  },
  {
   "cell_type": "code",
   "execution_count": 18,
   "metadata": {
    "collapsed": true,
    "jupyter": {
     "outputs_hidden": true
    }
   },
   "outputs": [],
   "source": [
    "from sklearn.metrics import r2_score\n",
    "from sklearn.model_selection import train_test_split\n",
    "from sklearn.neighbors import KNeighborsClassifier\n",
    "\n",
    "X_train, X_test, y_train, y_test = train_test_split(X, y, test_size=0.25, random_state=43, stratify=y) \n",
    "knn = KNeighborsClassifier(n_neighbors=8) \n",
    "knn.fit(X_train, y_train) \n",
    "y_pred = knn.predict(X_test) \n",
    "knn.score(X_test, y_test)\n",
    "\n",
    "y_train = [3, -0.5, 2, 7]\n",
    "y_test = [2.5, 0.0, 2, 8]\n",
    "\n",
    "r2_score(y_true, y_pred)"
   ]
  },
  {
   "cell_type": "markdown",
   "metadata": {},
   "source": [
    "Algoritmo 2"
   ]
  },
  {
   "cell_type": "code",
   "execution_count": 10,
   "metadata": {
    "collapsed": true,
    "jupyter": {
     "outputs_hidden": true
    }
   },
   "outputs": [],
   "source": [
    "from sklearn.metrics import mean_squared_error\n",
    "import numpy as np\n",
    "from sklearn.cluster import KMeans\n",
    "kmeans = KMeans(n_clusters=5)\n",
    "kmeans.fit(data)\n",
    "mms = MinMaxScaler()\n",
    "mms.fit(df)\n",
    "data_transformed = mms.transform(df)\n",
    "def plot_clustering(data, labels, title=None):\n",
    "    x_min, x_max = np.min(data, axis=0), np.max(data, axis=0)\n",
    "    data = (data - x_min) / (x_max - x_min)\n",
    "    fig = plt.figure(1, figsize=(4, 3))\n",
    "    plt.figure(figsize=(6, 4))\n",
    "    plt.scatter(data[:, 0], data[:, 1],\n",
    "                 c=labels.astype(np.float))\n",
    "    plt.xticks([])\n",
    "    plt.yticks([])\n",
    "    if title is not None:\n",
    "        plt.title(title, size=17)\n",
    "    plt.axis('off')\n",
    "    plt.tight_layout(rect=[0, 0.03, 1, 0.95]) \n",
    "kmeans = KMeans(n_clusters=5)\n",
    "kmeans.fit(data_transformed)\n",
    "labels = kmeans.labels_\n",
    "plot_clustering(data_transformed, labels)\n",
    "plt.show()\n",
    "y_train = [3, -0.5, 2, 7]\n",
    "y_test = [2.5, 0.0, 2, 8]\n",
    "\n",
    "mean_squared_error(y_train, y_test)"
   ]
  },
  {
   "cell_type": "markdown",
   "metadata": {},
   "source": [
    "### Algoritmo 3"
   ]
  },
  {
   "cell_type": "code",
   "execution_count": 17,
   "metadata": {
    "collapsed": true,
    "jupyter": {
     "outputs_hidden": true
    }
   },
   "outputs": [],
   "source": [
    "from sklearn.metrics import mean_absolute_error\n",
    "\n",
    "y_train = [3, -0.5, 2, 7]\n",
    "y_test = [2.5, 0.0, 2, 8]\n",
    "\n",
    "mean_absolute_error(y_train, y_test)"
   ]
  },
  {
   "cell_type": "markdown",
   "metadata": {},
   "source": [
    "**Pergunta:** Qual foi a performance de cada algoritmo? Explique os resultados e detalhe como a característica de cada algoritmo influenciou no resultado.\n",
    "\n",
    "**Resposta:**"
   ]
  },
  {
   "cell_type": "markdown",
   "metadata": {},
   "source": [
    "## 5. Validação e Otimização do Modelo\n",
    "\n",
    "Faça a otimização dos modelos, tunning dos hiperparametros, utilize técinicas como **RandomSearchCV** ou **GridSearchCV**."
   ]
  },
  {
   "cell_type": "markdown",
   "metadata": {},
   "source": [
    "**Pergunta:** Qual a técnica escolhida? Por que?\n",
    "\n",
    "**Resposta:** GridSearchCV,pois diferente do random, todos os valores são testados."
   ]
  },
  {
   "cell_type": "markdown",
   "metadata": {},
   "source": [
    "### Algoritmo 1"
   ]
  },
  {
   "cell_type": "code",
   "execution_count": 18,
   "metadata": {
    "collapsed": true,
    "jupyter": {
     "outputs_hidden": true
    }
   },
   "outputs": [],
   "source": [
    "#Seu Código aqui...\n",
    "\n",
    "\n"
   ]
  },
  {
   "cell_type": "markdown",
   "metadata": {},
   "source": [
    "### Algoritmo 2"
   ]
  },
  {
   "cell_type": "code",
   "execution_count": 10,
   "metadata": {
    "collapsed": true,
    "jupyter": {
     "outputs_hidden": true
    }
   },
   "outputs": [],
   "source": [
    "#Seu Código aqui...\n",
    "\n"
   ]
  },
  {
   "cell_type": "markdown",
   "metadata": {},
   "source": [
    "### Algoritmo 3"
   ]
  },
  {
   "cell_type": "code",
   "execution_count": 17,
   "metadata": {
    "collapsed": true,
    "jupyter": {
     "outputs_hidden": true
    }
   },
   "outputs": [],
   "source": [
    "#Seu Código aqui...\n"
   ]
  },
  {
   "cell_type": "markdown",
   "metadata": {},
   "source": [
    "Sumarize na tabela abaixo os indicadores para cada um dos preditores e suas respectivas pontuações para os conjuntos de dados de treino e de testes"
   ]
  },
  {
   "cell_type": "markdown",
   "metadata": {},
   "source": [
    "**Resposta:**\n",
    "\n",
    "|                     | algoritmo1 | algoritmo2 | algoritmo3 |\n",
    "|:---------------------|:------------------:|:-----------------------------:|:-----------------:|\n",
    "| treino |      X           |      X                       |   X              |\n",
    "| teste  |      X            |      X                       |   X              |\n"
   ]
  },
  {
   "cell_type": "markdown",
   "metadata": {},
   "source": [
    "**Pergunta:** Qual dos algoritmos obteve os melhores resultados? Quais caracaterísticas deste algoritmo podem ajudar a justificar tal resultado?\n",
    "\n",
    "**Resposta:**"
   ]
  },
  {
   "cell_type": "markdown",
   "metadata": {},
   "source": [
    "### __(BONUS: 1 ponto extra.)__ Implementação do algoritmo otimizado\n",
    "\n",
    "Configure o modelo selecionado com os parâmetros otimizados obtidos anteriormente."
   ]
  },
  {
   "cell_type": "code",
   "execution_count": 26,
   "metadata": {
    "collapsed": true,
    "jupyter": {
     "outputs_hidden": true
    }
   },
   "outputs": [],
   "source": [
    "#Seu Código aqui...\n",
    "\n"
   ]
  },
  {
   "cell_type": "markdown",
   "metadata": {},
   "source": [
    "### Modelo de produção: Teste com novos dados\n",
    "\n",
    "Utilize 3 exemplos criados por você mesmo para obter um valor de venda de veículo. Defina o teste para um resultado baixo, médio e alto do preço do carro."
   ]
  },
  {
   "cell_type": "code",
   "execution_count": 29,
   "metadata": {
    "collapsed": true,
    "jupyter": {
     "outputs_hidden": true
    }
   },
   "outputs": [],
   "source": [
    "#Seu Código aqui...\n",
    "\n"
   ]
  },
  {
   "cell_type": "markdown",
   "metadata": {},
   "source": [
    "**Pergunta:** Qual foi o resultado obtido? O resultado está coerente com o esperado?\n",
    "\n",
    "**Resposta:**"
   ]
  },
  {
   "cell_type": "markdown",
   "metadata": {},
   "source": [
    "## 6. Conclusões finais\n",
    "\n",
    "Ufa!!... Chegamos ao final deste projeto. Parabéns! De forma simplificada e completa passamos por todas as etapas de aprendizado de maquina. Outras etapas podem ser adicionadas no tratamento dos dados e desenvolvimento do modelo."
   ]
  },
  {
   "cell_type": "markdown",
   "metadata": {},
   "source": [
    "**Pergunta:**: O modelo desenvolvido obteve um resultado satisfatório? Justifique:\n",
    "\n",
    "**Resposta**:"
   ]
  },
  {
   "cell_type": "markdown",
   "metadata": {},
   "source": [
    "**Pergunta:**: O que faria diferente para melhorar resultado obtido? Justifique:\n",
    "\n",
    "**Resposta**:"
   ]
  },
  {
   "cell_type": "markdown",
   "metadata": {},
   "source": [
    "**Pergunta:**: As etapas de desenvolvimento se aplicam para um problema de classificação? Justifique:\n",
    "\n",
    "**Resposta**:"
   ]
  }
 ],
 "metadata": {
  "kernelspec": {
   "display_name": "Python 3",
   "language": "python",
   "name": "python3"
  },
  "language_info": {
   "codemirror_mode": {
    "name": "ipython",
    "version": 3
   },
   "file_extension": ".py",
   "mimetype": "text/x-python",
   "name": "python",
   "nbconvert_exporter": "python",
   "pygments_lexer": "ipython3",
   "version": "3.9.7"
  }
 },
 "nbformat": 4,
 "nbformat_minor": 4
}
